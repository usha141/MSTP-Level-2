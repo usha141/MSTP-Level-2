{
 "cells": [
  {
   "cell_type": "markdown",
   "metadata": {},
   "source": [
    "# File Handling:\n",
    "- collection of records\n",
    "- record is a collection of data \n",
    "- data is collection of bytes\n",
    "### file operations\n",
    "- open(),close()\n",
    "### modes\n",
    "- read(),write(),append()"
   ]
  },
  {
   "cell_type": "code",
   "execution_count": 22,
   "metadata": {},
   "outputs": [
    {
     "name": "stdout",
     "output_type": "stream",
     "text": [
      "enter start value1\n",
      "enter end value6\n",
      "even: [2, 4, 6]\n",
      "odd: [1, 3, 5]\n"
     ]
    }
   ],
   "source": [
    "n=int(input(\"enter start value\"))\n",
    "m=int(input(\"enter end value\"))\n",
    "even=[]\n",
    "odd=[]\n",
    "for i in range(n,m+1):\n",
    "    if(i%2==0):\n",
    "        even.append(i)\n",
    "    else:\n",
    "        odd.append(i)\n",
    "print(\"even:\",even)\n",
    "print(\"odd:\",odd)"
   ]
  },
  {
   "cell_type": "code",
   "execution_count": 7,
   "metadata": {},
   "outputs": [
    {
     "data": {
      "text/plain": [
       "['__add__',\n",
       " '__class__',\n",
       " '__contains__',\n",
       " '__delattr__',\n",
       " '__delitem__',\n",
       " '__dir__',\n",
       " '__doc__',\n",
       " '__eq__',\n",
       " '__format__',\n",
       " '__ge__',\n",
       " '__getattribute__',\n",
       " '__getitem__',\n",
       " '__gt__',\n",
       " '__hash__',\n",
       " '__iadd__',\n",
       " '__imul__',\n",
       " '__init__',\n",
       " '__init_subclass__',\n",
       " '__iter__',\n",
       " '__le__',\n",
       " '__len__',\n",
       " '__lt__',\n",
       " '__mul__',\n",
       " '__ne__',\n",
       " '__new__',\n",
       " '__reduce__',\n",
       " '__reduce_ex__',\n",
       " '__repr__',\n",
       " '__reversed__',\n",
       " '__rmul__',\n",
       " '__setattr__',\n",
       " '__setitem__',\n",
       " '__sizeof__',\n",
       " '__str__',\n",
       " '__subclasshook__',\n",
       " 'append',\n",
       " 'clear',\n",
       " 'copy',\n",
       " 'count',\n",
       " 'extend',\n",
       " 'index',\n",
       " 'insert',\n",
       " 'pop',\n",
       " 'remove',\n",
       " 'reverse',\n",
       " 'sort']"
      ]
     },
     "execution_count": 7,
     "metadata": {},
     "output_type": "execute_result"
    }
   ],
   "source": [
    "dir(list)"
   ]
  },
  {
   "cell_type": "code",
   "execution_count": 2,
   "metadata": {},
   "outputs": [
    {
     "name": "stdout",
     "output_type": "stream",
     "text": [
      "hii\n",
      "hello\n",
      "how r u\n",
      "\n"
     ]
    }
   ],
   "source": [
    "f=open(\"data.txt\")\n",
    "fh=f.read()\n",
    "print(fh)\n",
    "f.close()"
   ]
  },
  {
   "cell_type": "code",
   "execution_count": 3,
   "metadata": {},
   "outputs": [
    {
     "name": "stdout",
     "output_type": "stream",
     "text": [
      "hii\n",
      "hello\n",
      "how r u\n",
      "\n"
     ]
    }
   ],
   "source": [
    "with open(\"data.txt\") as f:\n",
    "    fh=f.read()\n",
    "    print(fh)"
   ]
  },
  {
   "cell_type": "code",
   "execution_count": 13,
   "metadata": {},
   "outputs": [
    {
     "name": "stdout",
     "output_type": "stream",
     "text": [
      "7\n"
     ]
    }
   ],
   "source": [
    "with open(\"data.txt\",'w') as f:\n",
    "    fh=f.write(\"sirisha\")\n",
    "    print(fh)\n",
    "    f.close()"
   ]
  },
  {
   "cell_type": "code",
   "execution_count": 15,
   "metadata": {},
   "outputs": [
    {
     "name": "stdout",
     "output_type": "stream",
     "text": [
      "11\n"
     ]
    }
   ],
   "source": [
    "with open(\"data.txt\",'a') as f:\n",
    "    fh=f.write(\" madamanchi\")\n",
    "    print(fh)\n",
    "    f.close()"
   ]
  },
  {
   "cell_type": "code",
   "execution_count": 19,
   "metadata": {},
   "outputs": [
    {
     "name": "stdout",
     "output_type": "stream",
     "text": [
      "lines 3\n",
      "['sirisha', 'madamnchi']\n",
      "['123456789']\n",
      "['jhjgjhgjh']\n",
      "words 6 22\n"
     ]
    }
   ],
   "source": [
    "with open (\"data.txt\") as f:\n",
    "    fh=f.read()\n",
    "    j=0\n",
    "    m=0\n",
    "    a=[]\n",
    "    k=[]\n",
    "    s=fh.split(\"\\n\")\n",
    "    print(\"lines\",len(s))\n",
    "    for i in range(0,len(s)):\n",
    "        a.append(s[i].split())\n",
    "        j+=len(a) \n",
    "        print(a[i])\n",
    "        for b in range(0,len(a)):\n",
    "            k.append(a[b])\n",
    "            l=list(k)\n",
    "            m+=len(l)\n",
    "print(\"words\",j,m+1)        "
   ]
  },
  {
   "cell_type": "code",
   "execution_count": 23,
   "metadata": {},
   "outputs": [
    {
     "name": "stdout",
     "output_type": "stream",
     "text": [
      "3 4 34\n"
     ]
    }
   ],
   "source": [
    "with open(\"data.txt\",\"r\") as f:\n",
    "    c=w=ch=0\n",
    "    for i in f:\n",
    "        c+=1\n",
    "        for j in i:\n",
    "            if j==\" \" or j==\"\\n\":\n",
    "                w+=1\n",
    "            if j.isalnum():\n",
    "                    ch+=1\n",
    "    print(c,w+1,ch)               \n",
    "            "
   ]
  },
  {
   "cell_type": "markdown",
   "metadata": {},
   "source": [
    "# Iterators\n",
    "- iter(),next()\n"
   ]
  },
  {
   "cell_type": "code",
   "execution_count": 25,
   "metadata": {},
   "outputs": [
    {
     "name": "stdout",
     "output_type": "stream",
     "text": [
      "a\n",
      "n\n",
      "a\n",
      "n\n",
      "t\n",
      "h\n",
      "a\n"
     ]
    }
   ],
   "source": [
    "k=iter(\"anantha naga sirisha\")\n",
    "print(next(k))\n",
    "print(next(k))\n",
    "print(next(k))\n",
    "print(next(k))\n",
    "print(next(k))\n",
    "print(next(k))\n",
    "print(next(k))"
   ]
  },
  {
   "cell_type": "code",
   "execution_count": 27,
   "metadata": {},
   "outputs": [
    {
     "name": "stdout",
     "output_type": "stream",
     "text": [
      "annatha\n",
      "naga\n",
      "sirisha\n"
     ]
    }
   ],
   "source": [
    "l=[\"annatha\",\"naga\",\"sirisha\"]\n",
    "k=iter(l)\n",
    "print(next(k))\n",
    "print(next(k))\n",
    "print(next(k))"
   ]
  },
  {
   "cell_type": "code",
   "execution_count": 29,
   "metadata": {},
   "outputs": [
    {
     "name": "stdout",
     "output_type": "stream",
     "text": [
      "1\n",
      "2\n",
      "3\n"
     ]
    }
   ],
   "source": [
    "### generators\n",
    "def genFunction():\n",
    "    yield 1\n",
    "    yield 2\n",
    "    yield 3\n",
    "for i in genFunction():\n",
    "    print(i)\n"
   ]
  },
  {
   "cell_type": "code",
   "execution_count": 30,
   "metadata": {},
   "outputs": [
    {
     "name": "stdout",
     "output_type": "stream",
     "text": [
      "8\n",
      "512\n",
      "134217728\n"
     ]
    }
   ],
   "source": [
    "def cube():\n",
    "    n=2\n",
    "    while True:\n",
    "        n=n**3\n",
    "        yield n\n",
    "a=cube()\n",
    "for i in range(3):\n",
    "    print(next(a))"
   ]
  },
  {
   "cell_type": "code",
   "execution_count": 38,
   "metadata": {},
   "outputs": [
    {
     "name": "stdout",
     "output_type": "stream",
     "text": [
      "enter1 2 3 4 5\n"
     ]
    },
    {
     "data": {
      "text/plain": [
       "[1, 2, 3, 4, 5]"
      ]
     },
     "execution_count": 38,
     "metadata": {},
     "output_type": "execute_result"
    }
   ],
   "source": [
    "# Map\n",
    "l=input(\"enter\").split()\n",
    "k=list(map(int,l))\n",
    "k"
   ]
  },
  {
   "cell_type": "code",
   "execution_count": 46,
   "metadata": {},
   "outputs": [
    {
     "name": "stdout",
     "output_type": "stream",
     "text": [
      "[1, 4, 9, 16]\n",
      "[1, 4, 9]\n"
     ]
    }
   ],
   "source": [
    "def squa(n):\n",
    "    n=n**2\n",
    "    return n\n",
    "k=list(map(squa,[1,2,3]))\n",
    "li=[1,2,3,4]\n",
    "k1=list(map(squa,li))\n",
    "print(k1)\n",
    "print(k)\n"
   ]
  },
  {
   "cell_type": "code",
   "execution_count": 16,
   "metadata": {},
   "outputs": [
    {
     "name": "stdout",
     "output_type": "stream",
     "text": [
      "[1, 2, 3]\n"
     ]
    }
   ],
   "source": [
    "# filter() - returns only true\n",
    "l=[1,2,3,'a','b','c']\n",
    "def fun(c):\n",
    "    c=str(c)\n",
    "    if c.isdigit():\n",
    "        return True\n",
    "    return False\n",
    "k=list(filter(fun,l))\n",
    "print(k)"
   ]
  },
  {
   "cell_type": "code",
   "execution_count": 30,
   "metadata": {},
   "outputs": [
    {
     "data": {
      "text/plain": [
       "['siri', 'sha']"
      ]
     },
     "execution_count": 30,
     "metadata": {},
     "output_type": "execute_result"
    }
   ],
   "source": [
    "l=\"siri sha\"\n",
    "l.split()"
   ]
  },
  {
   "cell_type": "code",
   "execution_count": 36,
   "metadata": {},
   "outputs": [
    {
     "data": {
      "text/plain": [
       "['sir', 'isha']"
      ]
     },
     "execution_count": 36,
     "metadata": {},
     "output_type": "execute_result"
    }
   ],
   "source": [
    "l=\"sir isha\"\n",
    "l.split(\" \")"
   ]
  },
  {
   "cell_type": "code",
   "execution_count": 33,
   "metadata": {},
   "outputs": [
    {
     "data": {
      "text/plain": [
       "[2, 4, 6]"
      ]
     },
     "execution_count": 33,
     "metadata": {},
     "output_type": "execute_result"
    }
   ],
   "source": [
    " # Lambda - for evaluatiing expressions\n",
    "l=[1,2,3]\n",
    "k=list(map(lambda x:x*2,l))\n",
    "k   \n",
    "        "
   ]
  },
  {
   "cell_type": "code",
   "execution_count": 34,
   "metadata": {},
   "outputs": [
    {
     "data": {
      "text/plain": [
       "64"
      ]
     },
     "execution_count": 34,
     "metadata": {},
     "output_type": "execute_result"
    }
   ],
   "source": [
    "p=lambda n:n**3\n",
    "p(4)"
   ]
  },
  {
   "cell_type": "markdown",
   "metadata": {},
   "source": [
    "### Modules\n",
    "- Collection of python file functions\n",
    "### Packages\n",
    "- collection of modules\n"
   ]
  },
  {
   "cell_type": "code",
   "execution_count": 39,
   "metadata": {},
   "outputs": [
    {
     "data": {
      "text/plain": [
       "5.0"
      ]
     },
     "execution_count": 39,
     "metadata": {},
     "output_type": "execute_result"
    }
   ],
   "source": [
    "#from package import module\n",
    "from math import sqrt\n",
    "k=sqrt(25)\n",
    "k"
   ]
  },
  {
   "cell_type": "code",
   "execution_count": 42,
   "metadata": {},
   "outputs": [
    {
     "data": {
      "text/plain": [
       "5.0"
      ]
     },
     "execution_count": 42,
     "metadata": {},
     "output_type": "execute_result"
    }
   ],
   "source": [
    "from math import sqrt as ms\n",
    "ms(25)"
   ]
  },
  {
   "cell_type": "code",
   "execution_count": 46,
   "metadata": {},
   "outputs": [
    {
     "data": {
      "text/plain": [
       "6"
      ]
     },
     "execution_count": 46,
     "metadata": {},
     "output_type": "execute_result"
    }
   ],
   "source": [
    "import random\n",
    "random.randint(1,10)"
   ]
  },
  {
   "cell_type": "markdown",
   "metadata": {},
   "source": [
    "# List comphrension\n",
    "### Introduction\n",
    "- List comphrension "
   ]
  },
  {
   "cell_type": "code",
   "execution_count": 48,
   "metadata": {},
   "outputs": [
    {
     "name": "stdout",
     "output_type": "stream",
     "text": [
      "[1, 4, 9, 16]\n"
     ]
    }
   ],
   "source": [
    "n=[1,2,3,4]\n",
    "s=[i**2 for i in n]\n",
    "print(s)"
   ]
  },
  {
   "cell_type": "code",
   "execution_count": 49,
   "metadata": {},
   "outputs": [
    {
     "name": "stdout",
     "output_type": "stream",
     "text": [
      "[1, 2, 4, 5, 6, 7]\n"
     ]
    }
   ],
   "source": [
    "matrix=[[1,2],[4,5],[6,7]]\n",
    "flattened=[item for row in matrix for item in row]\n",
    "print(flattened)\n"
   ]
  },
  {
   "cell_type": "code",
   "execution_count": 51,
   "metadata": {},
   "outputs": [
    {
     "name": "stdout",
     "output_type": "stream",
     "text": [
      "[6, 12, 18, 24]\n"
     ]
    }
   ],
   "source": [
    "n=[1,2,3,4,5,6,7,8,9,12,18,24]\n",
    "s=[k for k in n if(k%2==0) if(k%3==0)]\n",
    "print(s)"
   ]
  },
  {
   "cell_type": "code",
   "execution_count": 65,
   "metadata": {},
   "outputs": [
    {
     "name": "stdout",
     "output_type": "stream",
     "text": [
      "[2, 34, 4, 6, 8, 20, 34]\n"
     ]
    }
   ],
   "source": [
    "n=[1,2,3,34,4,5,6,7,8,9,20,34]\n",
    "s=[k for k in n if(k%2==0)]-\n",
    "print(s)"
   ]
  },
  {
   "cell_type": "code",
   "execution_count": 54,
   "metadata": {},
   "outputs": [
    {
     "data": {
      "text/plain": [
       "['even', 'odd', 'even', 'odd', 'even', 'odd', 'even', 'odd', 'even', 'odd']"
      ]
     },
     "execution_count": 54,
     "metadata": {},
     "output_type": "execute_result"
    }
   ],
   "source": [
    "a=[\"even\" if i%2==0 else \"odd\" for i in range(10)]\n",
    "a"
   ]
  },
  {
   "cell_type": "code",
   "execution_count": 55,
   "metadata": {},
   "outputs": [
    {
     "name": "stdout",
     "output_type": "stream",
     "text": [
      "enter n value3\n",
      "* * \n",
      "* * \n",
      "*****\n",
      "* * \n",
      "* * \n",
      "*****\n",
      "* * \n",
      "* * \n",
      "*****\n",
      "* * \n",
      "* * \n",
      "*****\n"
     ]
    }
   ],
   "source": [
    "n=int(input(\"enter n value\"))\n",
    "for i in range(0,n+1):\n",
    "        for j in range(0,2):    \n",
    "            for k in range(j,2):\n",
    "                if(j==1):\n",
    "                    print(\"*\",end=\" \")\n",
    "                print(\"*\",end=\" \")\n",
    "            print()    \n",
    "        print(\"*****\")         "
   ]
  },
  {
   "cell_type": "code",
   "execution_count": null,
   "metadata": {},
   "outputs": [],
   "source": []
  },
  {
   "cell_type": "code",
   "execution_count": null,
   "metadata": {},
   "outputs": [],
   "source": [
    "1"
   ]
  }
 ],
 "metadata": {
  "kernelspec": {
   "display_name": "Python 3",
   "language": "python",
   "name": "python3"
  },
  "language_info": {
   "codemirror_mode": {
    "name": "ipython",
    "version": 3
   },
   "file_extension": ".py",
   "mimetype": "text/x-python",
   "name": "python",
   "nbconvert_exporter": "python",
   "pygments_lexer": "ipython3",
   "version": "3.7.1"
  }
 },
 "nbformat": 4,
 "nbformat_minor": 2
}
