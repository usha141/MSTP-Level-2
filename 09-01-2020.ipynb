{
 "cells": [
  {
   "cell_type": "code",
   "execution_count": 55,
   "metadata": {},
   "outputs": [
    {
     "name": "stdout",
     "output_type": "stream",
     "text": [
      "6\n",
      "5\n",
      "6\n",
      "5\n"
     ]
    }
   ],
   "source": [
    "a=int(input())\n",
    "b=int(input())\n",
    "c=int(input())\n",
    "if(a==b and b==c):\n",
    "    print(0)\n",
    "elif(a!=b and a==c):\n",
    "        print(b)\n",
    "elif(a!=c and a==b):\n",
    "        print(c)    \n",
    "elif(b!=a and b==c):\n",
    "        print(a)\n",
    "else:\n",
    "        print(a+b+c)\n",
    "     \n"
   ]
  },
  {
   "cell_type": "code",
   "execution_count": 57,
   "metadata": {},
   "outputs": [
    {
     "name": "stdout",
     "output_type": "stream",
     "text": [
      "Enter a value:12546\n",
      "illegal isbn\n"
     ]
    }
   ],
   "source": [
    "import math\n",
    "a=(input(\"Enter a value:\"))\n",
    "sum=0\n",
    "c=len(a)\n",
    "i=c\n",
    "a=int(a)\n",
    "if(c==10):\n",
    "    while i!=0:\n",
    "        t=a%10\n",
    "        sum+=t*(i)\n",
    "        a=math.floor(a/10)\n",
    "        i=i-1\n",
    "    if(sum%11==0):\n",
    "        print(\"legal isbn\")\n",
    "    else:\n",
    "        print(\"illegal isbn\")\n",
    "else:\n",
    "    print(\"illegal isbn\")    \n"
   ]
  },
  {
   "cell_type": "code",
   "execution_count": 52,
   "metadata": {},
   "outputs": [
    {
     "name": "stdout",
     "output_type": "stream",
     "text": [
      "enter n value19\n",
      "19 * 1 = 19\n",
      "19 * 2 = 38\n",
      "19 * 3 = 57\n",
      "19 * 4 = 76\n",
      "19 * 5 = 95\n",
      "19 * 6 = 114\n",
      "19 * 7 = 133\n",
      "19 * 8 = 152\n",
      "19 * 9 = 171\n",
      "19 * 10 = 190\n"
     ]
    }
   ],
   "source": [
    "n=int(input(\"enter n value\"))\n",
    "for i in range(1,11):\n",
    "    print(n,\"*\",i,\"=\",n*i)\n",
    "\n",
    "\n"
   ]
  },
  {
   "cell_type": "code",
   "execution_count": 47,
   "metadata": {},
   "outputs": [
    {
     "name": "stdout",
     "output_type": "stream",
     "text": [
      "enter start value1\n",
      "enter end value10\n",
      "55\n"
     ]
    }
   ],
   "source": [
    "n=int(input(\"enter start value: \"))\n",
    "m=int(input(\"enter end value: \"))\n",
    "sum=0\n",
    "for i in range(n,m+1):\n",
    "    sum+=i\n",
    "print(sum)"
   ]
  },
  {
   "cell_type": "code",
   "execution_count": 71,
   "metadata": {},
   "outputs": [
    {
     "name": "stdout",
     "output_type": "stream",
     "text": [
      "enter n value5\n",
      "* \n",
      "* * \n",
      "* * * \n",
      "* * * * \n",
      "* * * * * \n"
     ]
    }
   ],
   "source": [
    "n=int(input(\"enter n value\"))\n",
    "for i in range(1,n+1):\n",
    "        for j in range(1,i+1):\n",
    "            print(\"*\",end=\" \")\n",
    "        print()\n"
   ]
  },
  {
   "cell_type": "code",
   "execution_count": 1,
   "metadata": {},
   "outputs": [
    {
     "name": "stdout",
     "output_type": "stream",
     "text": [
      "enter n value5\n",
      "* \n",
      "\n",
      "* \n",
      "* * \n",
      "\n",
      "* \n",
      "* * \n",
      "* * * \n",
      "\n",
      "* \n",
      "* * \n",
      "* * * \n",
      "* * * * \n",
      "\n",
      "* \n",
      "* * \n",
      "* * * \n",
      "* * * * \n",
      "* * * * * \n",
      "\n"
     ]
    }
   ],
   "source": [
    "n=int(input(\"enter n value\"))\n",
    "for i in range(1,n+1):\n",
    "        for j in range(1,i+1):\n",
    "            for k in range(1,j+1):\n",
    "                print(\"*\",end=\" \")\n",
    "            print()\n",
    "        print()\n"
   ]
  },
  {
   "cell_type": "code",
   "execution_count": 9,
   "metadata": {},
   "outputs": [
    {
     "name": "stdout",
     "output_type": "stream",
     "text": [
      "enter  n value:5\n",
      "enter  n value:6\n",
      "enter  n value:4\n",
      "enter  n value:2\n",
      "enter  n value:3\n",
      "enter  n value:1\n",
      "enter  n value:8\n",
      "enter  n value:stop\n",
      "8\n"
     ]
    }
   ],
   "source": [
    "m=0\n",
    "n=0\n",
    "while True:\n",
    "    n=(input(\"enter  n value:\"))\n",
    "    if n==\"stop\":\n",
    "        break\n",
    "    else:\n",
    "        n=int(n)\n",
    "        if((n)>m):\n",
    "            m=n\n",
    "print(m) \n"
   ]
  },
  {
   "cell_type": "markdown",
   "metadata": {},
   "source": [
    "# strings\n",
    "- collection of characters\n",
    "- enclosed by '' or \"\"\n",
    "### string operations\n",
    "- concatination\n",
    "- replication\n",
    "- membership\n",
    "- slicing\n",
    "### string methods"
   ]
  },
  {
   "cell_type": "code",
   "execution_count": 3,
   "metadata": {},
   "outputs": [
    {
     "name": "stdout",
     "output_type": "stream",
     "text": [
      "python   programming\n",
      "pythonpythonpython\n",
      "242424\n",
      "True\n"
     ]
    },
    {
     "data": {
      "text/plain": [
       "False"
      ]
     },
     "execution_count": 3,
     "metadata": {},
     "output_type": "execute_result"
    }
   ],
   "source": [
    "a=\"python\"\n",
    "b=\"programming\"\n",
    "c=\"24\"\n",
    "print(a+\"   \"+b)#concatenation\n",
    "print(a*3)#replication\n",
    "print(c*3)\n",
    "print('o' in a)\n",
    "'c' in c"
   ]
  },
  {
   "cell_type": "code",
   "execution_count": 4,
   "metadata": {},
   "outputs": [
    {
     "name": "stdout",
     "output_type": "stream",
     "text": [
      "p\n",
      "gramm\n",
      "SiTrmlNREgneigClee\n"
     ]
    }
   ],
   "source": [
    "# slicing - dividing the string into sub string by using : operator\n",
    "k=\"Sai Tirumal NVR Engineering College\"\n",
    "a=\"programming\"\n",
    "print(a[0])\n",
    "print(a[3:8])\n",
    "print(k[::2])#skip a character"
   ]
  },
  {
   "cell_type": "code",
   "execution_count": 45,
   "metadata": {},
   "outputs": [
    {
     "data": {
      "text/plain": [
       "'eelCgiengERNlmrTiS'"
      ]
     },
     "execution_count": 45,
     "metadata": {},
     "output_type": "execute_result"
    }
   ],
   "source": [
    "k[::-2]"
   ]
  },
  {
   "cell_type": "code",
   "execution_count": 4,
   "metadata": {},
   "outputs": [
    {
     "name": "stdout",
     "output_type": "stream",
     "text": [
      "python  in  Sai Tirumal NVR Engineering College\n"
     ]
    },
    {
     "data": {
      "text/plain": [
       "'python in Sai Tirumal  College'"
      ]
     },
     "execution_count": 4,
     "metadata": {},
     "output_type": "execute_result"
    }
   ],
   "source": [
    "a=\"python\"\n",
    "b=\"Sai Tirumal NVR Engineering College\"\n",
    "print(a,\" in \",k)\n",
    "a+\" in \"+b[:12]+b[-8:]"
   ]
  },
  {
   "cell_type": "code",
   "execution_count": 9,
   "metadata": {},
   "outputs": [
    {
     "name": "stdout",
     "output_type": "stream",
     "text": [
      "  ['__add__', '__class__', '__contains__', '__delattr__', '__dir__', '__doc__', '__eq__', '__format__', '__ge__', '__getattribute__', '__getitem__', '__getnewargs__', '__gt__', '__hash__', '__init__', '__init_subclass__', '__iter__', '__le__', '__len__', '__lt__', '__mod__', '__mul__', '__ne__', '__new__', '__reduce__', '__reduce_ex__', '__repr__', '__rmod__', '__rmul__', '__setattr__', '__sizeof__', '__str__', '__subclasshook__', 'capitalize', 'casefold', 'center', 'count', 'encode', 'endswith', 'expandtabs', 'find', 'format', 'format_map', 'index', 'isalnum', 'isalpha', 'isascii', 'isdecimal', 'isdigit', 'isidentifier', 'islower', 'isnumeric', 'isprintable', 'isspace', 'istitle', 'isupper', 'join', 'ljust', 'lower', 'lstrip', 'maketrans', 'partition', 'replace', 'rfind', 'rindex', 'rjust', 'rpartition', 'rsplit', 'rstrip', 'split', 'splitlines', 'startswith', 'strip', 'swapcase', 'title', 'translate', 'upper', 'zfill']\n"
     ]
    }
   ],
   "source": [
    "print(\" \",dir(str))"
   ]
  },
  {
   "cell_type": "code",
   "execution_count": 5,
   "metadata": {},
   "outputs": [
    {
     "data": {
      "text/plain": [
       "'Sai tirumala nvr engineering college'"
      ]
     },
     "execution_count": 5,
     "metadata": {},
     "output_type": "execute_result"
    }
   ],
   "source": [
    "k=\"Sai Tirumala NVR Engineering College\"\n",
    "k.capitalize()"
   ]
  },
  {
   "cell_type": "code",
   "execution_count": 7,
   "metadata": {},
   "outputs": [
    {
     "data": {
      "text/plain": [
       "'Sai Tirumala Nvr Engineering College'"
      ]
     },
     "execution_count": 7,
     "metadata": {},
     "output_type": "execute_result"
    }
   ],
   "source": [
    "k=\"Sai Tirumala NVR Engineering College\"\n",
    "k.title()#does the first character of the each word as capital"
   ]
  },
  {
   "cell_type": "code",
   "execution_count": 13,
   "metadata": {},
   "outputs": [
    {
     "name": "stdout",
     "output_type": "stream",
     "text": [
      "sten\n",
      "methods in strings\n",
      "mETHods iN strINGS\n",
      "********STEN********\n"
     ]
    }
   ],
   "source": [
    "a=\"STEN\"\n",
    "b=\"MethODS In STRings\"\n",
    "print(a.casefold())#convert all characters to lowercase\n",
    "print(b.casefold())\n",
    "print(b.swapcase())\n",
    "print(a.center(20,\"*\"))"
   ]
  },
  {
   "cell_type": "code",
   "execution_count": 29,
   "metadata": {},
   "outputs": [
    {
     "name": "stdout",
     "output_type": "stream",
     "text": [
      "['Sai', 'Tirumal', 'NVR', 'Engineering', 'College']\n",
      "['Sa', ' T', 'rumal NVR Eng', 'neer', 'ng College']\n"
     ]
    }
   ],
   "source": [
    "k=\"Sai Tirumal NVR Engineering College\"\n",
    "print(k.split())\n",
    "print(k.split('i'))"
   ]
  },
  {
   "cell_type": "code",
   "execution_count": 33,
   "metadata": {},
   "outputs": [
    {
     "name": "stdout",
     "output_type": "stream",
     "text": [
      "Tirumal NVR Engineering\n",
      "Tirumal NVR Engineering        \n",
      "       Tirumal NVR Engineering\n"
     ]
    }
   ],
   "source": [
    "k=\"       Tirumal NVR Engineering        \"\n",
    "print(k.strip())\n",
    "print(k.lstrip())\n",
    "print(k.rstrip())"
   ]
  },
  {
   "cell_type": "code",
   "execution_count": 44,
   "metadata": {},
   "outputs": [
    {
     "name": "stdout",
     "output_type": "stream",
     "text": [
      "STEN\n",
      "True\n",
      "hello world\n"
     ]
    },
    {
     "data": {
      "text/plain": [
       "True"
      ]
     },
     "execution_count": 44,
     "metadata": {},
     "output_type": "execute_result"
    }
   ],
   "source": [
    "a=\"HELLO WORLD\"\n",
    "b=\"sten\"\n",
    "print(b.upper())\n",
    "print(a.isupper())\n",
    "print(a.lower())\n",
    "b.islower()"
   ]
  },
  {
   "cell_type": "code",
   "execution_count": 51,
   "metadata": {},
   "outputs": [
    {
     "name": "stdout",
     "output_type": "stream",
     "text": [
      "True\n",
      "True\n",
      "False\n",
      "True\n"
     ]
    }
   ],
   "source": [
    "a=\"1233\"\n",
    "b='ajbdczdj'\n",
    "c='@$@%^'\n",
    "print(a.isdigit())\n",
    "print(b.isalpha())\n",
    "print(c.isalnum())\n",
    "print(a.isalnum())"
   ]
  },
  {
   "cell_type": "code",
   "execution_count": 15,
   "metadata": {},
   "outputs": [
    {
     "name": "stdout",
     "output_type": "stream",
     "text": [
      "c$s$e\n",
      "s^t^e^n\n"
     ]
    },
    {
     "data": {
      "text/plain": [
       "'c s e'"
      ]
     },
     "execution_count": 15,
     "metadata": {},
     "output_type": "execute_result"
    }
   ],
   "source": [
    "a=\"cse\"\n",
    "b=\"sten\"\n",
    "print(\"$\".join(a))\n",
    "print(\"^\".join(b))\n",
    "\" \".join(a)"
   ]
  },
  {
   "cell_type": "code",
   "execution_count": 25,
   "metadata": {},
   "outputs": [
    {
     "name": "stdout",
     "output_type": "stream",
     "text": [
      "True\n"
     ]
    },
    {
     "data": {
      "text/plain": [
       "True"
      ]
     },
     "execution_count": 25,
     "metadata": {},
     "output_type": "execute_result"
    }
   ],
   "source": [
    "a=\"cse\"\n",
    "b=\"sten\"\n",
    "print(a.startswith('c'))\n",
    "a.endswith('e')"
   ]
  },
  {
   "cell_type": "code",
   "execution_count": 27,
   "metadata": {},
   "outputs": [
    {
     "name": "stdout",
     "output_type": "stream",
     "text": [
      "0\n"
     ]
    },
    {
     "data": {
      "text/plain": [
       "True"
      ]
     },
     "execution_count": 27,
     "metadata": {},
     "output_type": "execute_result"
    }
   ],
   "source": [
    "a=\"cse \"\n",
    "b=\"sten\"\n",
    "print(a.index(\"c\"))\n",
    "a[3].isspace()"
   ]
  },
  {
   "cell_type": "code",
   "execution_count": 80,
   "metadata": {},
   "outputs": [
    {
     "data": {
      "text/plain": [
       "1"
      ]
     },
     "execution_count": 80,
     "metadata": {},
     "output_type": "execute_result"
    }
   ],
   "source": [
    "a.count('c')"
   ]
  },
  {
   "cell_type": "code",
   "execution_count": 85,
   "metadata": {},
   "outputs": [
    {
     "name": "stdout",
     "output_type": "stream",
     "text": [
      "name is samcpt with roll no 1234 have 87.65 percentage\n"
     ]
    }
   ],
   "source": [
    "a=\"samcpt\"\n",
    "i=1234\n",
    "f=87.65\n",
    "print(\"name is {} with roll no {} have {} percentage\".format(a,i,f))"
   ]
  },
  {
   "cell_type": "code",
   "execution_count": 123,
   "metadata": {},
   "outputs": [
    {
     "name": "stdout",
     "output_type": "stream",
     "text": [
      "enter 12345678910sdfghjktyul;\n",
      "46\n"
     ]
    }
   ],
   "source": [
    "d=0\n",
    "a=input(\"enter \")\n",
    "for j in range(len(a)):\n",
    "    if(a[j].isdigit()):\n",
    "        d=d+int(a[j])\n",
    "print(d)        \n",
    "        "
   ]
  },
  {
   "cell_type": "code",
   "execution_count": 128,
   "metadata": {},
   "outputs": [
    {
     "name": "stdout",
     "output_type": "stream",
     "text": [
      "enter AVDFVDF 325729 #$%^&* asdfgh\n",
      "digit: 6\n",
      "upper: 7\n",
      "lower 6\n",
      "space 3\n",
      "special 6\n"
     ]
    }
   ],
   "source": [
    "d=0\n",
    "c=0\n",
    "p=0\n",
    "l=0\n",
    "s=0\n",
    "a=input(\"enter \")\n",
    "for j in range(len(a)):\n",
    "    if(a[j].isdigit()):\n",
    "        d=d+1\n",
    "    elif(a[j].isupper()):\n",
    "        p=p+1\n",
    "    elif(a[j].islower()):\n",
    "        l=l+1\n",
    "    elif(a[j].isspace()):\n",
    "        s=s+1    \n",
    "    else:\n",
    "        c=c+1\n",
    "print(\"digit:\",d) \n",
    "print(\"upper:\",p)\n",
    "print(\"lower\",l)\n",
    "print(\"space\",s)\n",
    "print(\"special\",c)\n",
    "        "
   ]
  },
  {
   "cell_type": "markdown",
   "metadata": {},
   "source": [
    "# Functions\n",
    "### pre-Defined Function\n",
    "- input(),print(),int(),string(),float(),abs(),len(),type(),dir(),min(),max()\n",
    "### user-defined function\n",
    "-"
   ]
  },
  {
   "cell_type": "code",
   "execution_count": 129,
   "metadata": {},
   "outputs": [
    {
     "data": {
      "text/plain": [
       "567289"
      ]
     },
     "execution_count": 129,
     "metadata": {},
     "output_type": "execute_result"
    }
   ],
   "source": [
    "a=-567289\n",
    "abs(a)\n"
   ]
  },
  {
   "cell_type": "code",
   "execution_count": 4,
   "metadata": {},
   "outputs": [
    {
     "name": "stdout",
     "output_type": "stream",
     "text": [
      "y\n"
     ]
    },
    {
     "data": {
      "text/plain": [
       "' '"
      ]
     },
     "execution_count": 4,
     "metadata": {},
     "output_type": "execute_result"
    }
   ],
   "source": [
    "a=\"This is a Python Programming\"\n",
    "print(max(a))\n",
    "(min(a))"
   ]
  },
  {
   "cell_type": "code",
   "execution_count": 8,
   "metadata": {},
   "outputs": [
    {
     "name": "stdout",
     "output_type": "stream",
     "text": [
      "28\n",
      "This is a Python Programming\n"
     ]
    }
   ],
   "source": [
    "a=\"This is a Python Programming\"\n",
    "print(len(a))\n",
    "#print(dir(a))\n",
    "print((a))"
   ]
  },
  {
   "cell_type": "code",
   "execution_count": 11,
   "metadata": {},
   "outputs": [
    {
     "name": "stdout",
     "output_type": "stream",
     "text": [
      "65\n"
     ]
    }
   ],
   "source": [
    "l=[45,65,5]\n",
    "print(max(l))"
   ]
  },
  {
   "cell_type": "code",
   "execution_count": 15,
   "metadata": {},
   "outputs": [
    {
     "data": {
      "text/plain": [
       "'D'"
      ]
     },
     "execution_count": 15,
     "metadata": {},
     "output_type": "execute_result"
    }
   ],
   "source": [
    "chr(68)"
   ]
  },
  {
   "cell_type": "code",
   "execution_count": 20,
   "metadata": {},
   "outputs": [
    {
     "data": {
      "text/plain": [
       "95"
      ]
     },
     "execution_count": 20,
     "metadata": {},
     "output_type": "execute_result"
    }
   ],
   "source": [
    "ord('_')"
   ]
  },
  {
   "cell_type": "code",
   "execution_count": 21,
   "metadata": {},
   "outputs": [
    {
     "data": {
      "text/plain": [
       "97"
      ]
     },
     "execution_count": 21,
     "metadata": {},
     "output_type": "execute_result"
    }
   ],
   "source": [
    "ord('a')"
   ]
  },
  {
   "cell_type": "code",
   "execution_count": 29,
   "metadata": {},
   "outputs": [
    {
     "ename": "NameError",
     "evalue": "name 'h' is not defined",
     "output_type": "error",
     "traceback": [
      "\u001b[1;31m---------------------------------------------------------------------------\u001b[0m",
      "\u001b[1;31mNameError\u001b[0m                                 Traceback (most recent call last)",
      "\u001b[1;32m<ipython-input-29-deb408cb58e0>\u001b[0m in \u001b[0;36m<module>\u001b[1;34m\u001b[0m\n\u001b[0;32m      2\u001b[0m \u001b[0mb\u001b[0m\u001b[1;33m=\u001b[0m\u001b[0mord\u001b[0m\u001b[1;33m(\u001b[0m\u001b[1;34m'a'\u001b[0m\u001b[1;33m)\u001b[0m\u001b[1;33m\u001b[0m\u001b[1;33m\u001b[0m\u001b[0m\n\u001b[0;32m      3\u001b[0m \u001b[1;33m\u001b[0m\u001b[0m\n\u001b[1;32m----> 4\u001b[1;33m \u001b[0msum\u001b[0m\u001b[1;33m(\u001b[0m\u001b[0mh\u001b[0m\u001b[1;33m+\u001b[0m\u001b[0mb\u001b[0m\u001b[1;33m+\u001b[0m\u001b[0mc\u001b[0m\u001b[1;33m+\u001b[0m\u001b[0md\u001b[0m\u001b[1;33m+\u001b[0m\u001b[0me\u001b[0m\u001b[1;33m+\u001b[0m\u001b[0mf\u001b[0m\u001b[1;33m)\u001b[0m\u001b[1;33m\u001b[0m\u001b[1;33m\u001b[0m\u001b[0m\n\u001b[0m",
      "\u001b[1;31mNameError\u001b[0m: name 'h' is not defined"
     ]
    }
   ],
   "source": [
    "a=\"This is a Python Programming\"\n",
    "b=ord('a')\n",
    "\n",
    "sum(h+b+c+d+e+f)"
   ]
  },
  {
   "cell_type": "markdown",
   "metadata": {},
   "source": [
    "# User Defined Functions\n",
    "### Required Arguments\n",
    "### keyword arguments\n",
    "### default arguments\n",
    "### variable-Length arguments"
   ]
  },
  {
   "cell_type": "code",
   "execution_count": 30,
   "metadata": {},
   "outputs": [
    {
     "name": "stdout",
     "output_type": "stream",
     "text": [
      " enetr a value:53\n",
      "eneter b value:35\n"
     ]
    },
    {
     "data": {
      "text/plain": [
       "88"
      ]
     },
     "execution_count": 30,
     "metadata": {},
     "output_type": "execute_result"
    }
   ],
   "source": [
    "def sample(a,b):\n",
    "    c=a+b\n",
    "    return c\n",
    "a=int(input(\" enetr a value:\"))\n",
    "b=int(input(\"eneter b value:\"))\n",
    "sample(a,b)"
   ]
  },
  {
   "cell_type": "code",
   "execution_count": 31,
   "metadata": {},
   "outputs": [
    {
     "name": "stdout",
     "output_type": "stream",
     "text": [
      "enter a value:56\n",
      "enter b value:65\n"
     ]
    },
    {
     "data": {
      "text/plain": [
       "121"
      ]
     },
     "execution_count": 31,
     "metadata": {},
     "output_type": "execute_result"
    }
   ],
   "source": [
    "sample(int(input(\"enter a value:\")),int(input(\"enter b value:\")))"
   ]
  },
  {
   "cell_type": "code",
   "execution_count": 2,
   "metadata": {},
   "outputs": [
    {
     "name": "stdout",
     "output_type": "stream",
     "text": [
      " integer 453 String sten Float98.07\n",
      " integer cse String 45 Float67.9\n"
     ]
    }
   ],
   "source": [
    "def key(a,b,c):\n",
    "    print(\" integer {} String {} Float{}\".format(a,b,c))\n",
    "key(a=453,b=\"sten\",c=98.07)\n",
    "key(b=45,a=\"cse\",c=67.9)"
   ]
  },
  {
   "cell_type": "code",
   "execution_count": 3,
   "metadata": {},
   "outputs": [
    {
     "name": "stdout",
     "output_type": "stream",
     "text": [
      " integer cse String 45 Float67.9\n"
     ]
    }
   ],
   "source": [
    "key(b=45,a=\"cse\",c=67.9)"
   ]
  },
  {
   "cell_type": "code",
   "execution_count": 7,
   "metadata": {},
   "outputs": [
    {
     "name": "stdout",
     "output_type": "stream",
     "text": [
      "1 20 42 stem\n",
      "56 samcpt 42 stem\n",
      "7 45 42 cpt\n",
      "1 2 5 sam\n"
     ]
    }
   ],
   "source": [
    "def default(a=10,b=20,c=42,d=\"stem\"):\n",
    "    print(a,b,c,d)\n",
    "default(1)\n",
    "default(56,\"samcpt\")\n",
    "default(7,45,42,\"cpt\")\n",
    "default(1,2,5,\"sam\")"
   ]
  },
  {
   "cell_type": "code",
   "execution_count": 13,
   "metadata": {},
   "outputs": [
    {
     "name": "stdout",
     "output_type": "stream",
     "text": [
      "456\n",
      "sdfg\n",
      "(5, 86, 86, 855, 'dg')\n",
      "456\n",
      "sdfg\n",
      "(5, 86, 86, 855, 'dg', 5, 796, 252)\n",
      "456\n",
      "sdfg\n",
      "(5, 86, 86, 855, 'dg', 5, 796, 252, 'sdf', 'dfsddf', 'fd')\n",
      "456\n",
      "sdfg\n",
      "(5, 86, 86, 855, 'dg', 5, 796, 252)\n"
     ]
    }
   ],
   "source": [
    "def variable(a,b,*c):\n",
    "    print(a)\n",
    "    print(b)\n",
    "    print(c)\n",
    "variable(456,\"sdfg\",5,86,86,855,\"dg\")\n",
    "variable(456,\"sdfg\",5,86,86,855,\"dg\",5,796,252)\n",
    "variable(456,\"sdfg\",5,86,86,855,\"dg\",5,796,252,'sdf','dfsddf',\"fd\")\n",
    "variable(456,\"sdfg\",5,86,86,855,\"dg\",5,796,252)\n",
    "\n"
   ]
  },
  {
   "cell_type": "code",
   "execution_count": 21,
   "metadata": {},
   "outputs": [
    {
     "name": "stdout",
     "output_type": "stream",
     "text": [
      " 1.add\n",
      "2.sub\n",
      "3.mul\n",
      "4.div\n",
      "5.mod\n",
      "6.power\n",
      "7.floor division\n",
      "enter a value10\n",
      "enter b value2\n",
      "enter ur choice7\n",
      "5\n"
     ]
    }
   ],
   "source": [
    "print(\" 1.add\\n2.sub\\n3.mul\\n4.div\\n5.mod\\n6.power\\n7.floor division\")\n",
    "a=int(input(\"enter a value\"))\n",
    "b=int(input(\"enter b value\"))\n",
    "ch=int(input(\"enter ur choice\"))\n",
    "def add(a,b):\n",
    "    print(a+b)\n",
    "def sub(a,b):\n",
    "    print(a-b)\n",
    "def mul(a,b):\n",
    "    print(a*b)\n",
    "def div(a,b):\n",
    "    print(a/b)\n",
    "def mod(a,b):\n",
    "    print(a%b)\n",
    "def powe(a,b):\n",
    "    print(a**b)\n",
    "def floor(a,b):\n",
    "    print(a//b)\n",
    "if(ch==1):\n",
    "        add(a,b)\n",
    "elif(ch==2):\n",
    "        sub(a,b)\n",
    "elif(ch==3):\n",
    "        mul(a,b)\n",
    "elif(ch==4):\n",
    "        div(a,b)\n",
    "elif(ch==5):\n",
    "        mod(a,b)\n",
    "elif(ch==6):\n",
    "        powe(a,b)\n",
    "elif(ch==7):\n",
    "        floor(a,b)\n",
    "else:\n",
    "        print(\"invalid choice\")\n",
    "    \n",
    "\n"
   ]
  },
  {
   "cell_type": "code",
   "execution_count": 23,
   "metadata": {},
   "outputs": [
    {
     "name": "stdout",
     "output_type": "stream",
     "text": [
      " 1.add\n",
      "2.sub\n",
      "3.mul\n",
      "4.div\n",
      "5.mod\n",
      "6.power\n",
      "7.floor division\n",
      "enter10\n",
      "enter2\n",
      "enter7\n",
      "5\n"
     ]
    }
   ],
   "source": [
    "print(\" 1.add\\n2.sub\\n3.mul\\n4.div\\n5.mod\\n6.power\\n7.floor division\")\n",
    "def chc(ch):\n",
    "    if(ch==1):\n",
    "        print(a+b)\n",
    "    elif(ch==2):\n",
    "        print(abs(a-b))\n",
    "    elif(ch==3):\n",
    "        print(a*b)\n",
    "    elif(ch==4):\n",
    "        print(a/b)\n",
    "    elif(ch==5):\n",
    "        print(a%b)\n",
    "    elif(ch==6):\n",
    "        print(a**b)\n",
    "    elif(ch==7):\n",
    "        print(a//b)\n",
    "    else:\n",
    "        print(\"Enter a valid choice\")\n",
    "a=int(input(\"enter\"))\n",
    "b=int(input(\"enter\"))\n",
    "ch=int(input(\"enter\"))\n",
    "chc(ch)\n",
    "    \n",
    "    "
   ]
  },
  {
   "cell_type": "code",
   "execution_count": 32,
   "metadata": {},
   "outputs": [
    {
     "name": "stdout",
     "output_type": "stream",
     "text": [
      "enter no of testcases:2\n",
      "enter string:\"www.gmail.in\"\n",
      "14\n",
      "enter string:\"www.google.com\"\n",
      "16\n",
      "1\n"
     ]
    }
   ],
   "source": [
    "c=0\n",
    "n=0\n",
    "t=int(input(\"enter no of testcases:\"))\n",
    "while(t!=0):\n",
    "    s=input(\"enter string:\")\n",
    "    a=len(s)\n",
    "    print(a)\n",
    "    l=s+' '\n",
    "    g=l+' '\n",
    "    h=g+' '\n",
    "    for i in range(a):\n",
    "        if(h[i]==\".\"):\n",
    "            if((h[i+1]+h[i+2]+h[i+3])=='com'):\n",
    "                c=c+1\n",
    "            elif((h[i+1]+h[i+2])=='in'):\n",
    "                 n=n+1\n",
    "    t=t-1   \n",
    "if(c>n):\n",
    "    print(c)\n",
    "else:\n",
    "    print(n)"
   ]
  },
  {
   "cell_type": "code",
   "execution_count": 2,
   "metadata": {},
   "outputs": [
    {
     "name": "stdout",
     "output_type": "stream",
     "text": [
      "enter no of testcases:5\n",
      "entersirisha.com\n",
      "entermanasa.in\n",
      "enterchandrika.com\n",
      "enterusha.in\n",
      "enterteja.com\n",
      ".com is 3\n"
     ]
    }
   ],
   "source": [
    "x=0\n",
    "z=0\n",
    "t=int(input(\"enter no of testcases:\"))\n",
    "while(t!=0):\n",
    "    n=input(\"enter\")\n",
    "    a=n.split(\".\")\n",
    "    if(a[1]=='in'):\n",
    "        z=z+1\n",
    "    elif(a[1]=='com'):\n",
    "        x=x+1\n",
    "    t=t-1    \n",
    "if(z>x):\n",
    "    print(\".in is\",z)\n",
    "else:\n",
    "    print(\".com is\",x)"
   ]
  },
  {
   "cell_type": "code",
   "execution_count": null,
   "metadata": {},
   "outputs": [],
   "source": []
  }
 ],
 "metadata": {
  "kernelspec": {
   "display_name": "Python 3",
   "language": "python",
   "name": "python3"
  },
  "language_info": {
   "codemirror_mode": {
    "name": "ipython",
    "version": 3
   },
   "file_extension": ".py",
   "mimetype": "text/x-python",
   "name": "python",
   "nbconvert_exporter": "python",
   "pygments_lexer": "ipython3",
   "version": "3.7.1"
  }
 },
 "nbformat": 4,
 "nbformat_minor": 2
}
